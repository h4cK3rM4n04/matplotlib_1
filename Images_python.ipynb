{
 "cells": [
  {
   "cell_type": "markdown",
   "id": "b6a73db6",
   "metadata": {},
   "source": [
    "# Importation d'une image\n",
    "\n",
    "Importez **une image** de votre choix et ouvrez le! `n'oubliez pas de regler l'encodage en` $utf-8$"
   ]
  },
  {
   "cell_type": "code",
   "execution_count": null,
   "id": "07d8f35a",
   "metadata": {},
   "outputs": [],
   "source": []
  }
 ],
 "metadata": {
  "kernelspec": {
   "display_name": "Python 3 (ipykernel)",
   "language": "python",
   "name": "python3"
  },
  "language_info": {
   "codemirror_mode": {
    "name": "ipython",
    "version": 3
   },
   "file_extension": ".py",
   "mimetype": "text/x-python",
   "name": "python",
   "nbconvert_exporter": "python",
   "pygments_lexer": "ipython3",
   "version": "3.9.12"
  }
 },
 "nbformat": 4,
 "nbformat_minor": 5
}
