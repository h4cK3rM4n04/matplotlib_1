{
 "cells": [
  {
   "cell_type": "markdown",
   "id": "e2089c75",
   "metadata": {},
   "source": [
    "# Exercice 1 : Tracer une courbe\n",
    "\n",
    "Tracer une courbe de la fonction $f(x) = x^2$ sur l'intervalle $[0, 5]$. Ajouter un titre, des titres d'axes, une légende et sauvegarder le graphique dans un fichier."
   ]
  },
  {
   "cell_type": "code",
   "execution_count": 36,
   "id": "162adce9",
   "metadata": {},
   "outputs": [
    {
     "data": {
      "image/png": "[encoded data removed]",
      "text/plain": [
       "<Figure size 432x288 with 1 Axes>"
      ]
     },
     "metadata": {},
     "output_type": "display_data"
    }
   ],
   "source": [
    "import matplotlib.pyplot as plt\n",
    "import numpy as np\n",
    "def f(x):\n",
    "    return x ** 2\n",
    "exterior, interior = plt.subplots()\n",
    "x = np.arange(0,6)\n",
    "y = f(x)\n",
    "plt.plot(x, y)\n",
    "exterior.set_facecolor(\"darkgrey\")\n",
    "interior.set_facecolor(\"lightblue\")\n",
    "plt.scatter(x, y)\n",
    "plt.grid()\n",
    "interior.xaxis.set_label_text(\"h4ck3rM4n04\")\n",
    "plt.show()"
   ]
  },
  {
   "cell_type": "markdown",
   "id": "2340958f",
   "metadata": {},
   "source": [
    "# Exercice 2 : Tracer un histogramme\n",
    "\n",
    "Tracer un histogramme des notes d'un groupe d'élèves sur un examen. Les notes sont données dans la liste notes. Diviser l'histogramme en 10 intervalles, ajouter des titres et des titres d'axes."
   ]
  },
  {
   "cell_type": "code",
   "execution_count": null,
   "id": "247a40b5",
   "metadata": {},
   "outputs": [],
   "source": []
  },
  {
   "cell_type": "markdown",
   "id": "568633fb",
   "metadata": {},
   "source": [
    "# Exercice 3 : Tracer un diagramme circulaire\n",
    "\n",
    "Tracer un diagramme circulaire des parts de marché de différentes entreprises. Les parts de marché sont données dans la liste parts. Ajouter des titres et une légende."
   ]
  },
  {
   "cell_type": "code",
   "execution_count": null,
   "id": "5b78a5b0",
   "metadata": {},
   "outputs": [],
   "source": []
  },
  {
   "cell_type": "code",
   "execution_count": null,
   "id": "686699be",
   "metadata": {},
   "outputs": [],
   "source": []
  }
 ],
 "metadata": {
  "kernelspec": {
   "display_name": "Python 3 (ipykernel)",
   "language": "python",
   "name": "python3"
  },
  "language_info": {
   "codemirror_mode": {
    "name": "ipython",
    "version": 3
   },
   "file_extension": ".py",
   "mimetype": "text/x-python",
   "name": "python",
   "nbconvert_exporter": "python",
   "pygments_lexer": "ipython3",
   "version": "3.9.12"
  }
 },
 "nbformat": 4,
 "nbformat_minor": 5
}
